{
 "metadata": {
  "name": "",
  "signature": "sha256:2208b9b09b372b9e563e24e5329c8e4caa43b59153578dc8797ad351c7131a98"
 },
 "nbformat": 3,
 "nbformat_minor": 0,
 "worksheets": [
  {
   "cells": [
    {
     "cell_type": "code",
     "collapsed": false,
     "input": [
      "import synapseclient\n",
      "import pandas as pd\n",
      "import sys\n",
      "import os"
     ],
     "language": "python",
     "metadata": {},
     "outputs": [],
     "prompt_number": 139
    },
    {
     "cell_type": "code",
     "collapsed": false,
     "input": [
      "sys.path.append(os.environ['HOME'] + \"/dev/appys/lib/\")\n",
      "import synapseutils"
     ],
     "language": "python",
     "metadata": {},
     "outputs": [],
     "prompt_number": 141
    },
    {
     "cell_type": "code",
     "collapsed": false,
     "input": [
      "syn = synapseclient.login()"
     ],
     "language": "python",
     "metadata": {},
     "outputs": []
    },
    {
     "cell_type": "code",
     "collapsed": false,
     "input": [
      "meth_to_gene = syn.get('syn2324928')\n",
      "meth_to_gene = pd.DataFrame.from_csv(meth_to_gene.path,sep='\\t')\n",
      "\n",
      "meth_data = syn.get('syn2233188')\n",
      "meth_data = pd.DataFrame.from_csv(meth_data.path,sep='\\t')"
     ],
     "language": "python",
     "metadata": {},
     "outputs": []
    },
    {
     "cell_type": "code",
     "collapsed": false,
     "input": [
      "#only keep those probes which have a corresponding Entrez\n",
      "meth_to_gene = meth_to_gene[meth_to_gene.EntrezID.notnull()]\n",
      "meth_to_gene = meth_to_gene['EntrezID']\n",
      "meth_to_gene = meth_to_gene.reset_index()\n",
      "\n",
      "\n",
      "#only keep those probes in the meth_data which have a EntrezID\n",
      "meth_data = meth_data.loc[meth_to_gene.index]"
     ],
     "language": "python",
     "metadata": {},
     "outputs": []
    },
    {
     "cell_type": "code",
     "collapsed": false,
     "input": [
      "def  temp_func(x):\n",
      "    ids=x['EntrezID'].values[0].split(';') \n",
      "    df = pd.DataFrame({'entrezId':ids})\n",
      "    return df\n",
      "\n",
      "grp = meth_to_gene.groupby(['index'])\n",
      "\n",
      "#x = meth_to_gene.ix[1:5,]\n",
      "#grp = x.groupby(['index'])\n",
      "\n",
      "x = grp.apply(temp_func)\n"
     ],
     "language": "python",
     "metadata": {},
     "outputs": []
    },
    {
     "cell_type": "code",
     "collapsed": false,
     "input": [
      "#upload filtered meth_data to synapse\n",
      "meth_data.to_csv('methData_filtered.csv', sep=\"\\t\", header=True, index=True)\n",
      "syn.store(synapseclient.File('methData_filtered.csv'), used='syn2233188', executed=')"
     ],
     "language": "python",
     "metadata": {},
     "outputs": [],
     "prompt_number": 145
    },
    {
     "cell_type": "code",
     "collapsed": false,
     "input": [
      "??synapseutils.pushToSynapse"
     ],
     "language": "python",
     "metadata": {},
     "outputs": [],
     "prompt_number": 143
    },
    {
     "cell_type": "code",
     "collapsed": false,
     "input": [],
     "language": "python",
     "metadata": {},
     "outputs": []
    }
   ],
   "metadata": {}
  }
 ]
}